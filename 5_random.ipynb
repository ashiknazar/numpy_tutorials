{
 "cells": [
  {
   "cell_type": "markdown",
   "metadata": {},
   "source": [
    "# Definitions of Random Modules in NumPy\n",
    "\n",
    "## 1. **Basic Random Number Generation**\n",
    "   - **`rand()`**: Generates random numbers from a uniform distribution over [0, 1).\n",
    "   - **`randn()`**: Generates random numbers from a standard normal distribution (mean = 0, standard deviation = 1).\n",
    "   - **`random()`**: Generates random floats from a uniform distribution over [0, 1).\n",
    "\n",
    "## 2. **Discrete Distributions**\n",
    "   - **`randint()`**: Generates random integers between low (inclusive) and high (exclusive).\n",
    "   - **`binomial()`**: Draws samples from a binomial distribution.\n",
    "   - **`poisson()`**: Draws samples from a Poisson distribution.\n",
    "   - **`hypergeometric()`**: Draws samples from a hypergeometric distribution.\n",
    "   - **`multinomial()`**: Generates samples from a multinomial distribution.\n",
    "   - **`chisquare()`**: Draws samples from a chi-square distribution.\n",
    "   - **`studentT()`**: Draws samples from a Student's t-distribution.\n",
    "\n",
    "## 3. **Continuous Distributions**\n",
    "   - **`uniform()`**: Generates random numbers from a uniform distribution over a given interval.\n",
    "   - **`normal()`**: Draws samples from a normal (Gaussian) distribution with a given mean and standard deviation.\n",
    "   - **`gamma()`**: Draws samples from a Gamma distribution.\n",
    "   - **`exponential()`**: Draws samples from an exponential distribution.\n",
    "   - **`beta()`**: Draws samples from a Beta distribution.\n",
    "   - **`weibull()`**: Draws samples from a Weibull distribution.\n",
    "   - **`dirichlet()`**: Draws samples from a Dirichlet distribution.\n",
    "   - **`multivariate_normal()`**: Samples from a multivariate normal distribution.\n",
    "\n",
    "## 4. **Shuffling and Permutation**\n",
    "   - **`shuffle()`**: Randomly shuffles the elements of an array in place.\n",
    "   - **`permutation()`**: Returns a permuted array or a randomly permuted sequence of numbers.\n",
    "\n",
    "## 5. **Seed Control**\n",
    "   - **`seed()`**: Sets the seed for random number generation to ensure reproducibility.\n",
    "   - **`get_state()`**: Returns the state of the random number generator.\n",
    "   - **`set_state()`**: Sets the state of the random number generator to a previously saved state.\n",
    "\n",
    "## 6. **Random Sampling**\n",
    "   - **`bytes()`**: Generates random bytes.\n",
    "\n"
   ]
  },
  {
   "cell_type": "code",
   "execution_count": null,
   "metadata": {},
   "outputs": [],
   "source": []
  },
  {
   "cell_type": "markdown",
   "metadata": {},
   "source": [
    "# Examples of Random Modules in NumPy\n",
    "\n",
    "## 1. **Basic Random Number Generation**\n",
    "\n",
    "```python\n",
    "import numpy as np\n",
    "\n",
    "# rand(): Generates random numbers from a uniform distribution over [0, 1).\n",
    "print(np.random.rand(3, 2))\n",
    "\n",
    "# randn(): Generates random numbers from a standard normal distribution (mean = 0, standard deviation = 1).\n",
    "print(np.random.randn(3, 2))\n",
    "\n",
    "# random(): Generates random floats from a uniform distribution over [0, 1).\n",
    "print(np.random.random((2, 3)))\n"
   ]
  },
  {
   "cell_type": "markdown",
   "metadata": {},
   "source": [
    "# 2. Discrete Distributions"
   ]
  },
  {
   "cell_type": "code",
   "execution_count": 11,
   "metadata": {},
   "outputs": [
    {
     "name": "stdout",
     "output_type": "stream",
     "text": [
      "[1 8 2 3 8]\n",
      "[5 6 5 9 3]\n",
      "[3 2 4 1]\n",
      "[3 1 1]\n",
      "[[4 5 1]\n",
      " [2 3 5]]\n",
      "[ 0.8331587   4.1185756  11.79272058]\n",
      "[ 1.12989269 -1.22956256 -1.5819661 ]\n"
     ]
    }
   ],
   "source": [
    "import numpy as np\n",
    "### randint(): Generates random integers between low (inclusive) and high (exclusive).\n",
    "print(np.random.randint(1, 10, size=5))\n",
    "\n",
    "### binomial(): Draws samples from a binomial distribution.\n",
    "print(np.random.binomial(n=10, p=0.5, size=5))\n",
    "\n",
    "### poisson(): Draws samples from a Poisson distribution.\n",
    "print(np.random.poisson(lam=3.0, size=4))\n",
    "\n",
    "### hypergeometric(): Draws samples from a hypergeometric distribution.\n",
    "print(np.random.hypergeometric(ngood=5, nbad=10, nsample=5, size=3))\n",
    "\n",
    "### multinomial(): Generates samples from a multinomial distribution.\n",
    "print(np.random.multinomial(n=10, pvals=[0.2, 0.5, 0.3], size=2))\n",
    "\n",
    "### chisquare(): Draws samples from a chi-square distribution.\n",
    "print(np.random.chisquare(df=2, size=3))\n",
    "\n",
    "### studentT(): Draws samples from a Student's t-distribution.\n",
    "print(np.random.standard_t(df=10, size=3))\n"
   ]
  },
  {
   "cell_type": "markdown",
   "metadata": {},
   "source": [
    "### 3. Continuous Distributions"
   ]
  },
  {
   "cell_type": "code",
   "execution_count": null,
   "metadata": {},
   "outputs": [],
   "source": [
    "# uniform(): Generates random numbers from a uniform distribution over a given interval.\n",
    "print(np.random.uniform(low=0, high=1, size=5))\n",
    "\n",
    "# normal(): Draws samples from a normal (Gaussian) distribution with a given mean and standard deviation.\n",
    "print(np.random.normal(loc=0.0, scale=1.0, size=5))\n",
    "\n",
    "# gamma(): Draws samples from a Gamma distribution.\n",
    "print(np.random.gamma(shape=2.0, scale=2.0, size=3))\n",
    "\n",
    "# exponential(): Draws samples from an exponential distribution.\n",
    "print(np.random.exponential(scale=1.0, size=3))\n",
    "\n",
    "# beta(): Draws samples from a Beta distribution.\n",
    "print(np.random.beta(a=2.0, b=5.0, size=3))\n",
    "\n",
    "# weibull(): Draws samples from a Weibull distribution.\n",
    "print(np.random.weibull(a=1.5, size=3))\n",
    "\n",
    "# dirichlet(): Draws samples from a Dirichlet distribution.\n",
    "print(np.random.dirichlet(alpha=[0.2, 0.5, 0.3], size=3))\n",
    "\n",
    "# multivariate_normal(): Samples from a multivariate normal distribution.\n",
    "mean = [0, 0]\n",
    "cov = [[1, 0], [0, 1]]\n",
    "print(np.random.multivariate_normal(mean, cov, size=5))\n"
   ]
  },
  {
   "cell_type": "markdown",
   "metadata": {},
   "source": [
    "### 4. Shuffling and Permutation\n"
   ]
  },
  {
   "cell_type": "markdown",
   "metadata": {},
   "source": []
  },
  {
   "cell_type": "code",
   "execution_count": 12,
   "metadata": {},
   "outputs": [
    {
     "name": "stdout",
     "output_type": "stream",
     "text": [
      "[5 2 1 4 3]\n",
      "[0 3 1 2 4]\n"
     ]
    }
   ],
   "source": [
    "# shuffle(): Randomly shuffles the elements of an array in place.\n",
    "arr = np.array([1, 2, 3, 4, 5])\n",
    "np.random.shuffle(arr)\n",
    "print(arr)\n",
    "\n",
    "# permutation(): Returns a permuted array or a randomly permuted sequence of numbers.\n",
    "print(np.random.permutation(5))\n"
   ]
  },
  {
   "cell_type": "markdown",
   "metadata": {},
   "source": [
    "### 5. Seed Control\n",
    "\n"
   ]
  },
  {
   "cell_type": "code",
   "execution_count": 13,
   "metadata": {},
   "outputs": [
    {
     "name": "stdout",
     "output_type": "stream",
     "text": [
      "[0.37454012 0.95071431]\n",
      "[0.73199394 0.59865848]\n"
     ]
    }
   ],
   "source": [
    "# seed(): Sets the seed for random number generation to ensure reproducibility.\n",
    "np.random.seed(42)\n",
    "print(np.random.rand(2))\n",
    "\n",
    "# get_state(): Returns the state of the random number generator.\n",
    "state = np.random.get_state()\n",
    "\n",
    "# set_state(): Sets the state of the random number generator to a previously saved state.\n",
    "np.random.set_state(state)\n",
    "print(np.random.rand(2))\n"
   ]
  },
  {
   "cell_type": "markdown",
   "metadata": {},
   "source": [
    "### 6. Random Sampling"
   ]
  },
  {
   "cell_type": "code",
   "execution_count": 14,
   "metadata": {},
   "outputs": [
    {
     "name": "stdout",
     "output_type": "stream",
     "text": [
      "b'f\\xd6\\xf0\\'y\\x18\"r\\xd2A'\n"
     ]
    }
   ],
   "source": [
    "# bytes(): Generates random bytes.\n",
    "print(np.random.bytes(10))\n"
   ]
  },
  {
   "cell_type": "code",
   "execution_count": null,
   "metadata": {},
   "outputs": [],
   "source": []
  }
 ],
 "metadata": {
  "kernelspec": {
   "display_name": "base",
   "language": "python",
   "name": "python3"
  },
  "language_info": {
   "codemirror_mode": {
    "name": "ipython",
    "version": 3
   },
   "file_extension": ".py",
   "mimetype": "text/x-python",
   "name": "python",
   "nbconvert_exporter": "python",
   "pygments_lexer": "ipython3",
   "version": "3.12.7"
  }
 },
 "nbformat": 4,
 "nbformat_minor": 2
}
